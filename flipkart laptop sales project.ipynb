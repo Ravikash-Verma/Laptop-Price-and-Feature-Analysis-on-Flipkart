{
 "cells": [
  {
   "cell_type": "code",
   "execution_count": 1,
   "id": "83c6667d-4564-462d-b96e-65b9eac88423",
   "metadata": {},
   "outputs": [],
   "source": [
    "import pandas as pd\n",
    "import seaborn as sns\n",
    "import numpy as np\n",
    "import matplotlib.pyplot as plt"
   ]
  },
  {
   "cell_type": "code",
   "execution_count": 2,
   "id": "f1aae54d-883d-4eff-a795-0c3fe402a325",
   "metadata": {},
   "outputs": [],
   "source": [
    "df=pd.read_excel(r\"C:\\Users\\kashr\\Downloads\\my own projects\\Flipkart-Laptops.xlsx\")"
   ]
  },
  {
   "cell_type": "code",
   "execution_count": 3,
   "id": "3d26e6bb-0d05-4898-8d1f-5bd7487f3b6e",
   "metadata": {
    "scrolled": true
   },
   "outputs": [
    {
     "data": {
      "text/html": [
       "<div>\n",
       "<style scoped>\n",
       "    .dataframe tbody tr th:only-of-type {\n",
       "        vertical-align: middle;\n",
       "    }\n",
       "\n",
       "    .dataframe tbody tr th {\n",
       "        vertical-align: top;\n",
       "    }\n",
       "\n",
       "    .dataframe thead th {\n",
       "        text-align: right;\n",
       "    }\n",
       "</style>\n",
       "<table border=\"1\" class=\"dataframe\">\n",
       "  <thead>\n",
       "    <tr style=\"text-align: right;\">\n",
       "      <th></th>\n",
       "      <th>Product Name</th>\n",
       "      <th>ProductID</th>\n",
       "      <th>Actual price</th>\n",
       "      <th>Discount price</th>\n",
       "      <th>Stars</th>\n",
       "      <th>Rating</th>\n",
       "      <th>Reviews</th>\n",
       "      <th>Description</th>\n",
       "      <th>Link</th>\n",
       "    </tr>\n",
       "  </thead>\n",
       "  <tbody>\n",
       "    <tr>\n",
       "      <th>0</th>\n",
       "      <td>MSI Cyborg 15 Intel Core i5 12th Gen 12450H - ...</td>\n",
       "      <td>COMGZW35W3DSJADN</td>\n",
       "      <td>89990</td>\n",
       "      <td>54990</td>\n",
       "      <td>3.9</td>\n",
       "      <td>7 Ratings</td>\n",
       "      <td>1 Reviews</td>\n",
       "      <td>Intel Core i5 Processor (12th Gen)16 GB DDR5 R...</td>\n",
       "      <td>https://www.flipkart.com/msi-cyborg-15-intel-c...</td>\n",
       "    </tr>\n",
       "    <tr>\n",
       "      <th>1</th>\n",
       "      <td>MSI Thin 15 Intel Core i7 12th Gen 12650H - (8...</td>\n",
       "      <td>COMGZW37ZX66DBHF</td>\n",
       "      <td>83990</td>\n",
       "      <td>67990</td>\n",
       "      <td>NIL</td>\n",
       "      <td>NIL</td>\n",
       "      <td>NIL</td>\n",
       "      <td>Intel Core i7 Processor (12th Gen)8 GB DDR4 RA...</td>\n",
       "      <td>https://www.flipkart.com/msi-thin-15-intel-cor...</td>\n",
       "    </tr>\n",
       "    <tr>\n",
       "      <th>2</th>\n",
       "      <td>DELL Inspiron 3520 Intel Core i3 12th Gen 1215...</td>\n",
       "      <td>COMGJ75HJGFDJ6JN</td>\n",
       "      <td>49240</td>\n",
       "      <td>35660</td>\n",
       "      <td>4.2</td>\n",
       "      <td>1,805 Ratings</td>\n",
       "      <td>143 Reviews</td>\n",
       "      <td>Intel Core i3 Processor (12th Gen)8 GB DDR4 RA...</td>\n",
       "      <td>https://www.flipkart.com/dell-inspiron-3520-in...</td>\n",
       "    </tr>\n",
       "    <tr>\n",
       "      <th>3</th>\n",
       "      <td>Acer One (2024) Intel Core i3 11th Gen 1115G4 ...</td>\n",
       "      <td>COMGPF5CQ7VDWDT4</td>\n",
       "      <td>43999</td>\n",
       "      <td>26990</td>\n",
       "      <td>4.2</td>\n",
       "      <td>6,977 Ratings</td>\n",
       "      <td>596 Reviews</td>\n",
       "      <td>Intel Core i3 Processor (11th Gen)8 GB DDR4 RA...</td>\n",
       "      <td>https://www.flipkart.com/acer-one-2024-intel-c...</td>\n",
       "    </tr>\n",
       "    <tr>\n",
       "      <th>4</th>\n",
       "      <td>Lenovo V15 AMD Ryzen 3 Quad Core 7320U - (8 GB...</td>\n",
       "      <td>COMGPYKZAWY8UX6C</td>\n",
       "      <td>59400</td>\n",
       "      <td>27989</td>\n",
       "      <td>4.2</td>\n",
       "      <td>1,263 Ratings</td>\n",
       "      <td>113 Reviews</td>\n",
       "      <td>AMD Ryzen 3 Quad Core Processor8 GB LPDDR5 RAM...</td>\n",
       "      <td>https://www.flipkart.com/lenovo-v15-amd-ryzen-...</td>\n",
       "    </tr>\n",
       "    <tr>\n",
       "      <th>...</th>\n",
       "      <td>...</td>\n",
       "      <td>...</td>\n",
       "      <td>...</td>\n",
       "      <td>...</td>\n",
       "      <td>...</td>\n",
       "      <td>...</td>\n",
       "      <td>...</td>\n",
       "      <td>...</td>\n",
       "      <td>...</td>\n",
       "    </tr>\n",
       "    <tr>\n",
       "      <th>955</th>\n",
       "      <td>Acer Swift Go 14 (2024) AI Powered EVO Intel C...</td>\n",
       "      <td>COMGWKF2VKGAVHDU</td>\n",
       "      <td>129999</td>\n",
       "      <td>79990</td>\n",
       "      <td>4.1</td>\n",
       "      <td>108 Ratings</td>\n",
       "      <td>16 Reviews</td>\n",
       "      <td>Intel Core Ultra 5 Processor16 GB LPDDR5X RAMW...</td>\n",
       "      <td>https://www.flipkart.com/acer-swift-go-14-2024...</td>\n",
       "    </tr>\n",
       "    <tr>\n",
       "      <th>956</th>\n",
       "      <td>HP Victus Intel Core i5 12th Gen 12450H - (16 ...</td>\n",
       "      <td>COMH2DYZHMHZ5UPG</td>\n",
       "      <td>NIL</td>\n",
       "      <td>82414</td>\n",
       "      <td>NIL</td>\n",
       "      <td>NIL</td>\n",
       "      <td>NIL</td>\n",
       "      <td>Intel Core i5 Processor (12th Gen)16 GB DDR4 R...</td>\n",
       "      <td>https://www.flipkart.com/hp-victus-intel-core-...</td>\n",
       "    </tr>\n",
       "    <tr>\n",
       "      <th>957</th>\n",
       "      <td>Infinix X1 Slim Series (2024) Intel Core i3 10...</td>\n",
       "      <td>COMGEHP5EFEGWZW5</td>\n",
       "      <td>49999</td>\n",
       "      <td>32990</td>\n",
       "      <td>4.3</td>\n",
       "      <td>3,897 Ratings</td>\n",
       "      <td>457 Reviews</td>\n",
       "      <td>Intel Core i3 Processor (10th Gen)8 GB LPDDR4X...</td>\n",
       "      <td>https://www.flipkart.com/infinix-x1-slim-serie...</td>\n",
       "    </tr>\n",
       "    <tr>\n",
       "      <th>958</th>\n",
       "      <td>Lenovo IdeaPad Slim 3 Intel Core i5 12th Gen 1...</td>\n",
       "      <td>COMGYHP5ZB4AGZH6</td>\n",
       "      <td>69890</td>\n",
       "      <td>53390</td>\n",
       "      <td>3.8</td>\n",
       "      <td>53 Ratings</td>\n",
       "      <td>5 Reviews</td>\n",
       "      <td>Intel Core i5 Processor (12th Gen)16 GB LPDDR5...</td>\n",
       "      <td>https://www.flipkart.com/lenovo-ideapad-slim-3...</td>\n",
       "    </tr>\n",
       "    <tr>\n",
       "      <th>959</th>\n",
       "      <td>HP (15s-fq5007TU) Intel Core i3 12th Gen 1215U...</td>\n",
       "      <td>COMGYHP5MCEYZHSV</td>\n",
       "      <td>51134</td>\n",
       "      <td>38990</td>\n",
       "      <td>4.2</td>\n",
       "      <td>5,540 Ratings</td>\n",
       "      <td>485 Reviews</td>\n",
       "      <td>Intel Core i3 Processor (12th Gen)8 GB DDR4 RA...</td>\n",
       "      <td>https://www.flipkart.com/hp-15s-fq5007tu-intel...</td>\n",
       "    </tr>\n",
       "  </tbody>\n",
       "</table>\n",
       "<p>960 rows × 9 columns</p>\n",
       "</div>"
      ],
      "text/plain": [
       "                                          Product Name         ProductID  \\\n",
       "0    MSI Cyborg 15 Intel Core i5 12th Gen 12450H - ...  COMGZW35W3DSJADN   \n",
       "1    MSI Thin 15 Intel Core i7 12th Gen 12650H - (8...  COMGZW37ZX66DBHF   \n",
       "2    DELL Inspiron 3520 Intel Core i3 12th Gen 1215...  COMGJ75HJGFDJ6JN   \n",
       "3    Acer One (2024) Intel Core i3 11th Gen 1115G4 ...  COMGPF5CQ7VDWDT4   \n",
       "4    Lenovo V15 AMD Ryzen 3 Quad Core 7320U - (8 GB...  COMGPYKZAWY8UX6C   \n",
       "..                                                 ...               ...   \n",
       "955  Acer Swift Go 14 (2024) AI Powered EVO Intel C...  COMGWKF2VKGAVHDU   \n",
       "956  HP Victus Intel Core i5 12th Gen 12450H - (16 ...  COMH2DYZHMHZ5UPG   \n",
       "957  Infinix X1 Slim Series (2024) Intel Core i3 10...  COMGEHP5EFEGWZW5   \n",
       "958  Lenovo IdeaPad Slim 3 Intel Core i5 12th Gen 1...  COMGYHP5ZB4AGZH6   \n",
       "959  HP (15s-fq5007TU) Intel Core i3 12th Gen 1215U...  COMGYHP5MCEYZHSV   \n",
       "\n",
       "    Actual price Discount price Stars         Rating      Reviews  \\\n",
       "0          89990          54990   3.9      7 Ratings    1 Reviews   \n",
       "1          83990          67990   NIL            NIL          NIL   \n",
       "2          49240          35660   4.2  1,805 Ratings  143 Reviews   \n",
       "3          43999          26990   4.2  6,977 Ratings  596 Reviews   \n",
       "4          59400          27989   4.2  1,263 Ratings  113 Reviews   \n",
       "..           ...            ...   ...            ...          ...   \n",
       "955       129999          79990   4.1    108 Ratings   16 Reviews   \n",
       "956          NIL          82414   NIL            NIL          NIL   \n",
       "957        49999          32990   4.3  3,897 Ratings  457 Reviews   \n",
       "958        69890          53390   3.8     53 Ratings    5 Reviews   \n",
       "959        51134          38990   4.2  5,540 Ratings  485 Reviews   \n",
       "\n",
       "                                           Description  \\\n",
       "0    Intel Core i5 Processor (12th Gen)16 GB DDR5 R...   \n",
       "1    Intel Core i7 Processor (12th Gen)8 GB DDR4 RA...   \n",
       "2    Intel Core i3 Processor (12th Gen)8 GB DDR4 RA...   \n",
       "3    Intel Core i3 Processor (11th Gen)8 GB DDR4 RA...   \n",
       "4    AMD Ryzen 3 Quad Core Processor8 GB LPDDR5 RAM...   \n",
       "..                                                 ...   \n",
       "955  Intel Core Ultra 5 Processor16 GB LPDDR5X RAMW...   \n",
       "956  Intel Core i5 Processor (12th Gen)16 GB DDR4 R...   \n",
       "957  Intel Core i3 Processor (10th Gen)8 GB LPDDR4X...   \n",
       "958  Intel Core i5 Processor (12th Gen)16 GB LPDDR5...   \n",
       "959  Intel Core i3 Processor (12th Gen)8 GB DDR4 RA...   \n",
       "\n",
       "                                                  Link  \n",
       "0    https://www.flipkart.com/msi-cyborg-15-intel-c...  \n",
       "1    https://www.flipkart.com/msi-thin-15-intel-cor...  \n",
       "2    https://www.flipkart.com/dell-inspiron-3520-in...  \n",
       "3    https://www.flipkart.com/acer-one-2024-intel-c...  \n",
       "4    https://www.flipkart.com/lenovo-v15-amd-ryzen-...  \n",
       "..                                                 ...  \n",
       "955  https://www.flipkart.com/acer-swift-go-14-2024...  \n",
       "956  https://www.flipkart.com/hp-victus-intel-core-...  \n",
       "957  https://www.flipkart.com/infinix-x1-slim-serie...  \n",
       "958  https://www.flipkart.com/lenovo-ideapad-slim-3...  \n",
       "959  https://www.flipkart.com/hp-15s-fq5007tu-intel...  \n",
       "\n",
       "[960 rows x 9 columns]"
      ]
     },
     "execution_count": 3,
     "metadata": {},
     "output_type": "execute_result"
    }
   ],
   "source": [
    "df"
   ]
  },
  {
   "cell_type": "code",
   "execution_count": 4,
   "id": "ed4b0d42-c83f-4c8e-b1e8-e1b5897d10ca",
   "metadata": {},
   "outputs": [
    {
     "data": {
      "text/plain": [
       "Product Name      0\n",
       "ProductID         0\n",
       "Actual price      0\n",
       "Discount price    0\n",
       "Stars             0\n",
       "Rating            0\n",
       "Reviews           0\n",
       "Description       0\n",
       "Link              0\n",
       "dtype: int64"
      ]
     },
     "execution_count": 4,
     "metadata": {},
     "output_type": "execute_result"
    }
   ],
   "source": [
    "df.isnull().sum()"
   ]
  },
  {
   "cell_type": "code",
   "execution_count": 5,
   "id": "1a59e8f2-0038-4be0-a23e-671bc9a75a21",
   "metadata": {},
   "outputs": [
    {
     "data": {
      "text/html": [
       "<div>\n",
       "<style scoped>\n",
       "    .dataframe tbody tr th:only-of-type {\n",
       "        vertical-align: middle;\n",
       "    }\n",
       "\n",
       "    .dataframe tbody tr th {\n",
       "        vertical-align: top;\n",
       "    }\n",
       "\n",
       "    .dataframe thead th {\n",
       "        text-align: right;\n",
       "    }\n",
       "</style>\n",
       "<table border=\"1\" class=\"dataframe\">\n",
       "  <thead>\n",
       "    <tr style=\"text-align: right;\">\n",
       "      <th></th>\n",
       "      <th>Product Name</th>\n",
       "      <th>ProductID</th>\n",
       "      <th>Actual price</th>\n",
       "      <th>Discount price</th>\n",
       "      <th>Stars</th>\n",
       "      <th>Rating</th>\n",
       "      <th>Reviews</th>\n",
       "      <th>Description</th>\n",
       "      <th>Link</th>\n",
       "    </tr>\n",
       "  </thead>\n",
       "  <tbody>\n",
       "    <tr>\n",
       "      <th>0</th>\n",
       "      <td>NaN</td>\n",
       "      <td>NaN</td>\n",
       "      <td>NaN</td>\n",
       "      <td>NaN</td>\n",
       "      <td>NaN</td>\n",
       "      <td>NaN</td>\n",
       "      <td>NaN</td>\n",
       "      <td>NaN</td>\n",
       "      <td>NaN</td>\n",
       "    </tr>\n",
       "    <tr>\n",
       "      <th>1</th>\n",
       "      <td>NaN</td>\n",
       "      <td>NaN</td>\n",
       "      <td>NaN</td>\n",
       "      <td>NaN</td>\n",
       "      <td>NIL</td>\n",
       "      <td>NIL</td>\n",
       "      <td>NIL</td>\n",
       "      <td>NaN</td>\n",
       "      <td>NaN</td>\n",
       "    </tr>\n",
       "    <tr>\n",
       "      <th>2</th>\n",
       "      <td>NaN</td>\n",
       "      <td>NaN</td>\n",
       "      <td>NaN</td>\n",
       "      <td>NaN</td>\n",
       "      <td>NaN</td>\n",
       "      <td>NaN</td>\n",
       "      <td>NaN</td>\n",
       "      <td>NaN</td>\n",
       "      <td>NaN</td>\n",
       "    </tr>\n",
       "    <tr>\n",
       "      <th>3</th>\n",
       "      <td>NaN</td>\n",
       "      <td>NaN</td>\n",
       "      <td>NaN</td>\n",
       "      <td>NaN</td>\n",
       "      <td>NaN</td>\n",
       "      <td>NaN</td>\n",
       "      <td>NaN</td>\n",
       "      <td>NaN</td>\n",
       "      <td>NaN</td>\n",
       "    </tr>\n",
       "    <tr>\n",
       "      <th>4</th>\n",
       "      <td>NaN</td>\n",
       "      <td>NaN</td>\n",
       "      <td>NaN</td>\n",
       "      <td>NaN</td>\n",
       "      <td>NaN</td>\n",
       "      <td>NaN</td>\n",
       "      <td>NaN</td>\n",
       "      <td>NaN</td>\n",
       "      <td>NaN</td>\n",
       "    </tr>\n",
       "    <tr>\n",
       "      <th>...</th>\n",
       "      <td>...</td>\n",
       "      <td>...</td>\n",
       "      <td>...</td>\n",
       "      <td>...</td>\n",
       "      <td>...</td>\n",
       "      <td>...</td>\n",
       "      <td>...</td>\n",
       "      <td>...</td>\n",
       "      <td>...</td>\n",
       "    </tr>\n",
       "    <tr>\n",
       "      <th>955</th>\n",
       "      <td>NaN</td>\n",
       "      <td>NaN</td>\n",
       "      <td>NaN</td>\n",
       "      <td>NaN</td>\n",
       "      <td>NaN</td>\n",
       "      <td>NaN</td>\n",
       "      <td>NaN</td>\n",
       "      <td>NaN</td>\n",
       "      <td>NaN</td>\n",
       "    </tr>\n",
       "    <tr>\n",
       "      <th>956</th>\n",
       "      <td>NaN</td>\n",
       "      <td>NaN</td>\n",
       "      <td>NIL</td>\n",
       "      <td>NaN</td>\n",
       "      <td>NIL</td>\n",
       "      <td>NIL</td>\n",
       "      <td>NIL</td>\n",
       "      <td>NaN</td>\n",
       "      <td>NaN</td>\n",
       "    </tr>\n",
       "    <tr>\n",
       "      <th>957</th>\n",
       "      <td>NaN</td>\n",
       "      <td>NaN</td>\n",
       "      <td>NaN</td>\n",
       "      <td>NaN</td>\n",
       "      <td>NaN</td>\n",
       "      <td>NaN</td>\n",
       "      <td>NaN</td>\n",
       "      <td>NaN</td>\n",
       "      <td>NaN</td>\n",
       "    </tr>\n",
       "    <tr>\n",
       "      <th>958</th>\n",
       "      <td>NaN</td>\n",
       "      <td>NaN</td>\n",
       "      <td>NaN</td>\n",
       "      <td>NaN</td>\n",
       "      <td>NaN</td>\n",
       "      <td>NaN</td>\n",
       "      <td>NaN</td>\n",
       "      <td>NaN</td>\n",
       "      <td>NaN</td>\n",
       "    </tr>\n",
       "    <tr>\n",
       "      <th>959</th>\n",
       "      <td>NaN</td>\n",
       "      <td>NaN</td>\n",
       "      <td>NaN</td>\n",
       "      <td>NaN</td>\n",
       "      <td>NaN</td>\n",
       "      <td>NaN</td>\n",
       "      <td>NaN</td>\n",
       "      <td>NaN</td>\n",
       "      <td>NaN</td>\n",
       "    </tr>\n",
       "  </tbody>\n",
       "</table>\n",
       "<p>960 rows × 9 columns</p>\n",
       "</div>"
      ],
      "text/plain": [
       "    Product Name ProductID Actual price Discount price Stars Rating Reviews  \\\n",
       "0            NaN       NaN          NaN            NaN   NaN    NaN     NaN   \n",
       "1            NaN       NaN          NaN            NaN   NIL    NIL     NIL   \n",
       "2            NaN       NaN          NaN            NaN   NaN    NaN     NaN   \n",
       "3            NaN       NaN          NaN            NaN   NaN    NaN     NaN   \n",
       "4            NaN       NaN          NaN            NaN   NaN    NaN     NaN   \n",
       "..           ...       ...          ...            ...   ...    ...     ...   \n",
       "955          NaN       NaN          NaN            NaN   NaN    NaN     NaN   \n",
       "956          NaN       NaN          NIL            NaN   NIL    NIL     NIL   \n",
       "957          NaN       NaN          NaN            NaN   NaN    NaN     NaN   \n",
       "958          NaN       NaN          NaN            NaN   NaN    NaN     NaN   \n",
       "959          NaN       NaN          NaN            NaN   NaN    NaN     NaN   \n",
       "\n",
       "    Description Link  \n",
       "0           NaN  NaN  \n",
       "1           NaN  NaN  \n",
       "2           NaN  NaN  \n",
       "3           NaN  NaN  \n",
       "4           NaN  NaN  \n",
       "..          ...  ...  \n",
       "955         NaN  NaN  \n",
       "956         NaN  NaN  \n",
       "957         NaN  NaN  \n",
       "958         NaN  NaN  \n",
       "959         NaN  NaN  \n",
       "\n",
       "[960 rows x 9 columns]"
      ]
     },
     "execution_count": 5,
     "metadata": {},
     "output_type": "execute_result"
    }
   ],
   "source": [
    "df[df=='NIL']"
   ]
  },
  {
   "cell_type": "code",
   "execution_count": 6,
   "id": "f2125a5b-0983-4fe9-bf58-ddcaf4ca83a1",
   "metadata": {},
   "outputs": [
    {
     "name": "stderr",
     "output_type": "stream",
     "text": [
      "C:\\Users\\kashr\\AppData\\Local\\Temp\\ipykernel_9248\\668332093.py:2: FutureWarning: Downcasting behavior in `replace` is deprecated and will be removed in a future version. To retain the old behavior, explicitly call `result.infer_objects(copy=False)`. To opt-in to the future behavior, set `pd.set_option('future.no_silent_downcasting', True)`\n",
      "  df=df.replace('NIL',np.nan)\n"
     ]
    }
   ],
   "source": [
    "#converting nil values to nan\n",
    "df=df.replace('NIL',np.nan)"
   ]
  },
  {
   "cell_type": "code",
   "execution_count": 7,
   "id": "dd7c3a05-96cf-4012-aa79-1df92c432eb9",
   "metadata": {},
   "outputs": [
    {
     "data": {
      "text/plain": [
       "Product Name        0\n",
       "ProductID           0\n",
       "Actual price        7\n",
       "Discount price      0\n",
       "Stars             150\n",
       "Rating            150\n",
       "Reviews           150\n",
       "Description         0\n",
       "Link                0\n",
       "dtype: int64"
      ]
     },
     "execution_count": 7,
     "metadata": {},
     "output_type": "execute_result"
    }
   ],
   "source": [
    "df.isnull().sum()"
   ]
  },
  {
   "cell_type": "code",
   "execution_count": 8,
   "id": "30d64d58-546b-4fab-8779-28c260eccb63",
   "metadata": {},
   "outputs": [],
   "source": [
    "df=df.dropna()"
   ]
  },
  {
   "cell_type": "code",
   "execution_count": 9,
   "id": "fd3e3f14-f5bc-44fa-9a76-30d2ec7bf975",
   "metadata": {},
   "outputs": [
    {
     "data": {
      "text/plain": [
       "Product Name      0\n",
       "ProductID         0\n",
       "Actual price      0\n",
       "Discount price    0\n",
       "Stars             0\n",
       "Rating            0\n",
       "Reviews           0\n",
       "Description       0\n",
       "Link              0\n",
       "dtype: int64"
      ]
     },
     "execution_count": 9,
     "metadata": {},
     "output_type": "execute_result"
    }
   ],
   "source": [
    "df.isnull().sum()"
   ]
  },
  {
   "cell_type": "markdown",
   "id": "cc96d73a-34eb-4ad7-a93e-765b5933ba9e",
   "metadata": {},
   "source": [
    "# Distribution of actual prices vs distribution of discounted prices"
   ]
  },
  {
   "cell_type": "code",
   "execution_count": 10,
   "id": "00184126-8461-4d73-8179-fc9f24767a11",
   "metadata": {},
   "outputs": [
    {
     "data": {
      "text/plain": [
       "Text(0.5, 1.0, 'Distribution of discounted prices')"
      ]
     },
     "execution_count": 10,
     "metadata": {},
     "output_type": "execute_result"
    },
    {
     "data": {
      "image/png": "[encoded data removed]",
      "text/plain": [
       "<Figure size 1200x600 with 2 Axes>"
      ]
     },
     "metadata": {},
     "output_type": "display_data"
    }
   ],
   "source": [
    "plt.figure(figsize=(12,6))\n",
    "plt.subplot(1,2,1) # it specifies that it has 1 row and two columns and we are working on 1st column\n",
    "sns.histplot(data=df,x='Actual price',bins=30,kde=True)\n",
    "plt.title('Distribution of actual prices')\n",
    "plt.subplot(1,2,2) #this specifies that we are currently working on second column\n",
    "sns.histplot(data=df,x='Discount price',bins=30,kde=True)\n",
    "plt.title('Distribution of discounted prices')"
   ]
  },
  {
   "cell_type": "code",
   "execution_count": 11,
   "id": "ffa9e40e-f44c-49a1-9f64-992131ab3f5d",
   "metadata": {},
   "outputs": [
    {
     "data": {
      "text/html": [
       "<div>\n",
       "<style scoped>\n",
       "    .dataframe tbody tr th:only-of-type {\n",
       "        vertical-align: middle;\n",
       "    }\n",
       "\n",
       "    .dataframe tbody tr th {\n",
       "        vertical-align: top;\n",
       "    }\n",
       "\n",
       "    .dataframe thead th {\n",
       "        text-align: right;\n",
       "    }\n",
       "</style>\n",
       "<table border=\"1\" class=\"dataframe\">\n",
       "  <thead>\n",
       "    <tr style=\"text-align: right;\">\n",
       "      <th></th>\n",
       "      <th>Product Name</th>\n",
       "      <th>ProductID</th>\n",
       "      <th>Actual price</th>\n",
       "      <th>Discount price</th>\n",
       "      <th>Stars</th>\n",
       "      <th>Rating</th>\n",
       "      <th>Reviews</th>\n",
       "      <th>Description</th>\n",
       "      <th>Link</th>\n",
       "    </tr>\n",
       "  </thead>\n",
       "  <tbody>\n",
       "    <tr>\n",
       "      <th>0</th>\n",
       "      <td>MSI Cyborg 15 Intel Core i5 12th Gen 12450H - ...</td>\n",
       "      <td>COMGZW35W3DSJADN</td>\n",
       "      <td>89990.0</td>\n",
       "      <td>54990</td>\n",
       "      <td>3.9</td>\n",
       "      <td>7 Ratings</td>\n",
       "      <td>1 Reviews</td>\n",
       "      <td>Intel Core i5 Processor (12th Gen)16 GB DDR5 R...</td>\n",
       "      <td>https://www.flipkart.com/msi-cyborg-15-intel-c...</td>\n",
       "    </tr>\n",
       "    <tr>\n",
       "      <th>2</th>\n",
       "      <td>DELL Inspiron 3520 Intel Core i3 12th Gen 1215...</td>\n",
       "      <td>COMGJ75HJGFDJ6JN</td>\n",
       "      <td>49240.0</td>\n",
       "      <td>35660</td>\n",
       "      <td>4.2</td>\n",
       "      <td>1,805 Ratings</td>\n",
       "      <td>143 Reviews</td>\n",
       "      <td>Intel Core i3 Processor (12th Gen)8 GB DDR4 RA...</td>\n",
       "      <td>https://www.flipkart.com/dell-inspiron-3520-in...</td>\n",
       "    </tr>\n",
       "  </tbody>\n",
       "</table>\n",
       "</div>"
      ],
      "text/plain": [
       "                                        Product Name         ProductID  \\\n",
       "0  MSI Cyborg 15 Intel Core i5 12th Gen 12450H - ...  COMGZW35W3DSJADN   \n",
       "2  DELL Inspiron 3520 Intel Core i3 12th Gen 1215...  COMGJ75HJGFDJ6JN   \n",
       "\n",
       "   Actual price Discount price  Stars         Rating      Reviews  \\\n",
       "0       89990.0          54990    3.9      7 Ratings    1 Reviews   \n",
       "2       49240.0          35660    4.2  1,805 Ratings  143 Reviews   \n",
       "\n",
       "                                         Description  \\\n",
       "0  Intel Core i5 Processor (12th Gen)16 GB DDR5 R...   \n",
       "2  Intel Core i3 Processor (12th Gen)8 GB DDR4 RA...   \n",
       "\n",
       "                                                Link  \n",
       "0  https://www.flipkart.com/msi-cyborg-15-intel-c...  \n",
       "2  https://www.flipkart.com/dell-inspiron-3520-in...  "
      ]
     },
     "execution_count": 11,
     "metadata": {},
     "output_type": "execute_result"
    }
   ],
   "source": [
    "df.head(2)"
   ]
  },
  {
   "cell_type": "markdown",
   "id": "9d9292ef-f20d-407e-84cb-37a42a11cdc4",
   "metadata": {},
   "source": [
    "# Ratings vs Price (relationship)"
   ]
  },
  {
   "cell_type": "code",
   "execution_count": 12,
   "id": "be50c49d-f444-4d89-ac9c-542e9f5b719a",
   "metadata": {},
   "outputs": [
    {
     "data": {
      "text/plain": [
       "Text(0.5, 1.0, 'Stars vs Actual price')"
      ]
     },
     "execution_count": 12,
     "metadata": {},
     "output_type": "execute_result"
    },
    {
     "data": {
      "image/png": "[encoded data removed]",
      "text/plain": [
       "<Figure size 1000x600 with 1 Axes>"
      ]
     },
     "metadata": {},
     "output_type": "display_data"
    }
   ],
   "source": [
    "plt.figure(figsize=(10,6)) #it will make 10 inches wide and 6 inches long plot\n",
    "sns.scatterplot(data=df,x='Stars',y='Actual price')\n",
    "plt.title('Stars vs Actual price')"
   ]
  },
  {
   "cell_type": "raw",
   "id": "58c6e18b-b3bc-45a6-a208-523a1f55c999",
   "metadata": {},
   "source": [
    "This shows the relationship between the stars that is rating and actual price"
   ]
  },
  {
   "cell_type": "code",
   "execution_count": 13,
   "id": "c5d1c2e2-e57e-4c9c-a909-399f3e3573b0",
   "metadata": {},
   "outputs": [
    {
     "data": {
      "text/html": [
       "<div>\n",
       "<style scoped>\n",
       "    .dataframe tbody tr th:only-of-type {\n",
       "        vertical-align: middle;\n",
       "    }\n",
       "\n",
       "    .dataframe tbody tr th {\n",
       "        vertical-align: top;\n",
       "    }\n",
       "\n",
       "    .dataframe thead th {\n",
       "        text-align: right;\n",
       "    }\n",
       "</style>\n",
       "<table border=\"1\" class=\"dataframe\">\n",
       "  <thead>\n",
       "    <tr style=\"text-align: right;\">\n",
       "      <th></th>\n",
       "      <th>Product Name</th>\n",
       "      <th>ProductID</th>\n",
       "      <th>Actual price</th>\n",
       "      <th>Discount price</th>\n",
       "      <th>Stars</th>\n",
       "      <th>Rating</th>\n",
       "      <th>Reviews</th>\n",
       "      <th>Description</th>\n",
       "      <th>Link</th>\n",
       "    </tr>\n",
       "  </thead>\n",
       "  <tbody>\n",
       "    <tr>\n",
       "      <th>0</th>\n",
       "      <td>MSI Cyborg 15 Intel Core i5 12th Gen 12450H - ...</td>\n",
       "      <td>COMGZW35W3DSJADN</td>\n",
       "      <td>89990.0</td>\n",
       "      <td>54990</td>\n",
       "      <td>3.9</td>\n",
       "      <td>7 Ratings</td>\n",
       "      <td>1 Reviews</td>\n",
       "      <td>Intel Core i5 Processor (12th Gen)16 GB DDR5 R...</td>\n",
       "      <td>https://www.flipkart.com/msi-cyborg-15-intel-c...</td>\n",
       "    </tr>\n",
       "    <tr>\n",
       "      <th>2</th>\n",
       "      <td>DELL Inspiron 3520 Intel Core i3 12th Gen 1215...</td>\n",
       "      <td>COMGJ75HJGFDJ6JN</td>\n",
       "      <td>49240.0</td>\n",
       "      <td>35660</td>\n",
       "      <td>4.2</td>\n",
       "      <td>1,805 Ratings</td>\n",
       "      <td>143 Reviews</td>\n",
       "      <td>Intel Core i3 Processor (12th Gen)8 GB DDR4 RA...</td>\n",
       "      <td>https://www.flipkart.com/dell-inspiron-3520-in...</td>\n",
       "    </tr>\n",
       "    <tr>\n",
       "      <th>3</th>\n",
       "      <td>Acer One (2024) Intel Core i3 11th Gen 1115G4 ...</td>\n",
       "      <td>COMGPF5CQ7VDWDT4</td>\n",
       "      <td>43999.0</td>\n",
       "      <td>26990</td>\n",
       "      <td>4.2</td>\n",
       "      <td>6,977 Ratings</td>\n",
       "      <td>596 Reviews</td>\n",
       "      <td>Intel Core i3 Processor (11th Gen)8 GB DDR4 RA...</td>\n",
       "      <td>https://www.flipkart.com/acer-one-2024-intel-c...</td>\n",
       "    </tr>\n",
       "    <tr>\n",
       "      <th>4</th>\n",
       "      <td>Lenovo V15 AMD Ryzen 3 Quad Core 7320U - (8 GB...</td>\n",
       "      <td>COMGPYKZAWY8UX6C</td>\n",
       "      <td>59400.0</td>\n",
       "      <td>27989</td>\n",
       "      <td>4.2</td>\n",
       "      <td>1,263 Ratings</td>\n",
       "      <td>113 Reviews</td>\n",
       "      <td>AMD Ryzen 3 Quad Core Processor8 GB LPDDR5 RAM...</td>\n",
       "      <td>https://www.flipkart.com/lenovo-v15-amd-ryzen-...</td>\n",
       "    </tr>\n",
       "    <tr>\n",
       "      <th>5</th>\n",
       "      <td>Lenovo AMD Ryzen 3 Quad Core 7330U - (8 GB/512...</td>\n",
       "      <td>COMGYG23H3CRABUT</td>\n",
       "      <td>63900.0</td>\n",
       "      <td>32990</td>\n",
       "      <td>5.0</td>\n",
       "      <td>7 Ratings</td>\n",
       "      <td>0 Reviews</td>\n",
       "      <td>AMD Ryzen 3 Quad Core Processor8 GB DDR4 RAMWi...</td>\n",
       "      <td>https://www.flipkart.com/lenovo-amd-ryzen-3-qu...</td>\n",
       "    </tr>\n",
       "  </tbody>\n",
       "</table>\n",
       "</div>"
      ],
      "text/plain": [
       "                                        Product Name         ProductID  \\\n",
       "0  MSI Cyborg 15 Intel Core i5 12th Gen 12450H - ...  COMGZW35W3DSJADN   \n",
       "2  DELL Inspiron 3520 Intel Core i3 12th Gen 1215...  COMGJ75HJGFDJ6JN   \n",
       "3  Acer One (2024) Intel Core i3 11th Gen 1115G4 ...  COMGPF5CQ7VDWDT4   \n",
       "4  Lenovo V15 AMD Ryzen 3 Quad Core 7320U - (8 GB...  COMGPYKZAWY8UX6C   \n",
       "5  Lenovo AMD Ryzen 3 Quad Core 7330U - (8 GB/512...  COMGYG23H3CRABUT   \n",
       "\n",
       "   Actual price Discount price  Stars         Rating      Reviews  \\\n",
       "0       89990.0          54990    3.9      7 Ratings    1 Reviews   \n",
       "2       49240.0          35660    4.2  1,805 Ratings  143 Reviews   \n",
       "3       43999.0          26990    4.2  6,977 Ratings  596 Reviews   \n",
       "4       59400.0          27989    4.2  1,263 Ratings  113 Reviews   \n",
       "5       63900.0          32990    5.0      7 Ratings    0 Reviews   \n",
       "\n",
       "                                         Description  \\\n",
       "0  Intel Core i5 Processor (12th Gen)16 GB DDR5 R...   \n",
       "2  Intel Core i3 Processor (12th Gen)8 GB DDR4 RA...   \n",
       "3  Intel Core i3 Processor (11th Gen)8 GB DDR4 RA...   \n",
       "4  AMD Ryzen 3 Quad Core Processor8 GB LPDDR5 RAM...   \n",
       "5  AMD Ryzen 3 Quad Core Processor8 GB DDR4 RAMWi...   \n",
       "\n",
       "                                                Link  \n",
       "0  https://www.flipkart.com/msi-cyborg-15-intel-c...  \n",
       "2  https://www.flipkart.com/dell-inspiron-3520-in...  \n",
       "3  https://www.flipkart.com/acer-one-2024-intel-c...  \n",
       "4  https://www.flipkart.com/lenovo-v15-amd-ryzen-...  \n",
       "5  https://www.flipkart.com/lenovo-amd-ryzen-3-qu...  "
      ]
     },
     "execution_count": 13,
     "metadata": {},
     "output_type": "execute_result"
    }
   ],
   "source": [
    "df.head(5)"
   ]
  },
  {
   "cell_type": "code",
   "execution_count": 14,
   "id": "57e273ba-b0a8-482e-8284-d1bc8fdac580",
   "metadata": {},
   "outputs": [
    {
     "data": {
      "text/plain": [
       "Index(['Product Name', 'ProductID', 'Actual price', 'Discount price', 'Stars',\n",
       "       'Rating', 'Reviews', 'Description', 'Link'],\n",
       "      dtype='object')"
      ]
     },
     "execution_count": 14,
     "metadata": {},
     "output_type": "execute_result"
    }
   ],
   "source": [
    "df.columns"
   ]
  },
  {
   "cell_type": "markdown",
   "id": "e25c1078-9ec7-4031-8308-6e0050c697f8",
   "metadata": {},
   "source": [
    "# Avg discount offered by each brand"
   ]
  },
  {
   "cell_type": "code",
   "execution_count": 15,
   "id": "4e1cfe4f-f8c2-4bfa-8225-ff06e455b063",
   "metadata": {},
   "outputs": [],
   "source": [
    "df['Brand_Name']=df['Product Name'].apply(lambda x:x.split()[0])"
   ]
  },
  {
   "cell_type": "code",
   "execution_count": 16,
   "id": "d34235ca-5434-4f56-850b-326c9fc924c9",
   "metadata": {},
   "outputs": [
    {
     "data": {
      "text/html": [
       "<div>\n",
       "<style scoped>\n",
       "    .dataframe tbody tr th:only-of-type {\n",
       "        vertical-align: middle;\n",
       "    }\n",
       "\n",
       "    .dataframe tbody tr th {\n",
       "        vertical-align: top;\n",
       "    }\n",
       "\n",
       "    .dataframe thead th {\n",
       "        text-align: right;\n",
       "    }\n",
       "</style>\n",
       "<table border=\"1\" class=\"dataframe\">\n",
       "  <thead>\n",
       "    <tr style=\"text-align: right;\">\n",
       "      <th></th>\n",
       "      <th>Product Name</th>\n",
       "      <th>ProductID</th>\n",
       "      <th>Actual price</th>\n",
       "      <th>Discount price</th>\n",
       "      <th>Stars</th>\n",
       "      <th>Rating</th>\n",
       "      <th>Reviews</th>\n",
       "      <th>Description</th>\n",
       "      <th>Link</th>\n",
       "      <th>Brand_Name</th>\n",
       "    </tr>\n",
       "  </thead>\n",
       "  <tbody>\n",
       "    <tr>\n",
       "      <th>0</th>\n",
       "      <td>MSI Cyborg 15 Intel Core i5 12th Gen 12450H - ...</td>\n",
       "      <td>COMGZW35W3DSJADN</td>\n",
       "      <td>89990.0</td>\n",
       "      <td>54990</td>\n",
       "      <td>3.9</td>\n",
       "      <td>7 Ratings</td>\n",
       "      <td>1 Reviews</td>\n",
       "      <td>Intel Core i5 Processor (12th Gen)16 GB DDR5 R...</td>\n",
       "      <td>https://www.flipkart.com/msi-cyborg-15-intel-c...</td>\n",
       "      <td>MSI</td>\n",
       "    </tr>\n",
       "  </tbody>\n",
       "</table>\n",
       "</div>"
      ],
      "text/plain": [
       "                                        Product Name         ProductID  \\\n",
       "0  MSI Cyborg 15 Intel Core i5 12th Gen 12450H - ...  COMGZW35W3DSJADN   \n",
       "\n",
       "   Actual price Discount price  Stars     Rating    Reviews  \\\n",
       "0       89990.0          54990    3.9  7 Ratings  1 Reviews   \n",
       "\n",
       "                                         Description  \\\n",
       "0  Intel Core i5 Processor (12th Gen)16 GB DDR5 R...   \n",
       "\n",
       "                                                Link Brand_Name  \n",
       "0  https://www.flipkart.com/msi-cyborg-15-intel-c...        MSI  "
      ]
     },
     "execution_count": 16,
     "metadata": {},
     "output_type": "execute_result"
    }
   ],
   "source": [
    "df.head(1)"
   ]
  },
  {
   "cell_type": "code",
   "execution_count": 23,
   "id": "e3fb6def-4a74-46cd-a824-2728a03901da",
   "metadata": {},
   "outputs": [],
   "source": [
    "df['Discount_Percentage']=((df['Actual price']-df['Discount price'])/df['Actual price'])*100"
   ]
  },
  {
   "cell_type": "code",
   "execution_count": 24,
   "id": "45c3d46f-459f-4c6b-83eb-f31b1f2da538",
   "metadata": {},
   "outputs": [
    {
     "data": {
      "text/html": [
       "<div>\n",
       "<style scoped>\n",
       "    .dataframe tbody tr th:only-of-type {\n",
       "        vertical-align: middle;\n",
       "    }\n",
       "\n",
       "    .dataframe tbody tr th {\n",
       "        vertical-align: top;\n",
       "    }\n",
       "\n",
       "    .dataframe thead th {\n",
       "        text-align: right;\n",
       "    }\n",
       "</style>\n",
       "<table border=\"1\" class=\"dataframe\">\n",
       "  <thead>\n",
       "    <tr style=\"text-align: right;\">\n",
       "      <th></th>\n",
       "      <th>Product Name</th>\n",
       "      <th>ProductID</th>\n",
       "      <th>Actual price</th>\n",
       "      <th>Discount price</th>\n",
       "      <th>Stars</th>\n",
       "      <th>Rating</th>\n",
       "      <th>Reviews</th>\n",
       "      <th>Description</th>\n",
       "      <th>Link</th>\n",
       "      <th>Brand_Name</th>\n",
       "      <th>Discount_Percentage</th>\n",
       "    </tr>\n",
       "  </thead>\n",
       "  <tbody>\n",
       "    <tr>\n",
       "      <th>0</th>\n",
       "      <td>MSI Cyborg 15 Intel Core i5 12th Gen 12450H - ...</td>\n",
       "      <td>COMGZW35W3DSJADN</td>\n",
       "      <td>89990.0</td>\n",
       "      <td>54990</td>\n",
       "      <td>3.9</td>\n",
       "      <td>7 Ratings</td>\n",
       "      <td>1 Reviews</td>\n",
       "      <td>Intel Core i5 Processor (12th Gen)16 GB DDR5 R...</td>\n",
       "      <td>https://www.flipkart.com/msi-cyborg-15-intel-c...</td>\n",
       "      <td>MSI</td>\n",
       "      <td>38.89321</td>\n",
       "    </tr>\n",
       "    <tr>\n",
       "      <th>2</th>\n",
       "      <td>DELL Inspiron 3520 Intel Core i3 12th Gen 1215...</td>\n",
       "      <td>COMGJ75HJGFDJ6JN</td>\n",
       "      <td>49240.0</td>\n",
       "      <td>35660</td>\n",
       "      <td>4.2</td>\n",
       "      <td>1,805 Ratings</td>\n",
       "      <td>143 Reviews</td>\n",
       "      <td>Intel Core i3 Processor (12th Gen)8 GB DDR4 RA...</td>\n",
       "      <td>https://www.flipkart.com/dell-inspiron-3520-in...</td>\n",
       "      <td>DELL</td>\n",
       "      <td>27.579204</td>\n",
       "    </tr>\n",
       "  </tbody>\n",
       "</table>\n",
       "</div>"
      ],
      "text/plain": [
       "                                        Product Name         ProductID  \\\n",
       "0  MSI Cyborg 15 Intel Core i5 12th Gen 12450H - ...  COMGZW35W3DSJADN   \n",
       "2  DELL Inspiron 3520 Intel Core i3 12th Gen 1215...  COMGJ75HJGFDJ6JN   \n",
       "\n",
       "   Actual price Discount price  Stars         Rating      Reviews  \\\n",
       "0       89990.0          54990    3.9      7 Ratings    1 Reviews   \n",
       "2       49240.0          35660    4.2  1,805 Ratings  143 Reviews   \n",
       "\n",
       "                                         Description  \\\n",
       "0  Intel Core i5 Processor (12th Gen)16 GB DDR5 R...   \n",
       "2  Intel Core i3 Processor (12th Gen)8 GB DDR4 RA...   \n",
       "\n",
       "                                                Link Brand_Name  \\\n",
       "0  https://www.flipkart.com/msi-cyborg-15-intel-c...        MSI   \n",
       "2  https://www.flipkart.com/dell-inspiron-3520-in...       DELL   \n",
       "\n",
       "  Discount_Percentage  \n",
       "0            38.89321  \n",
       "2           27.579204  "
      ]
     },
     "execution_count": 24,
     "metadata": {},
     "output_type": "execute_result"
    }
   ],
   "source": [
    "df.head(2)"
   ]
  },
  {
   "cell_type": "code",
   "execution_count": 25,
   "id": "2594f0dd-e698-44b9-906c-f285384c9566",
   "metadata": {},
   "outputs": [],
   "source": [
    "discount_percentage_by_brand=df.groupby('Brand_Name')['Discount_Percentage'].mean().sort_values(ascending=False).reset_index()"
   ]
  },
  {
   "cell_type": "code",
   "execution_count": 26,
   "id": "77c4f822-e8dd-434f-bc6d-90bac6659d72",
   "metadata": {},
   "outputs": [
    {
     "data": {
      "text/plain": [
       "Text(0.5, 1.0, 'Average Discount(%) by Each Brand')"
      ]
     },
     "execution_count": 26,
     "metadata": {},
     "output_type": "execute_result"
    },
    {
     "data": {
      "image/png": "[encoded data removed]",
      "text/plain": [
       "<Figure size 1200x600 with 1 Axes>"
      ]
     },
     "metadata": {},
     "output_type": "display_data"
    }
   ],
   "source": [
    "plt.figure(figsize=(12,6))\n",
    "sns.barplot(data=discount_percentage_by_brand,x='Brand_Name',y='Discount_Percentage')\n",
    "plt.xticks(rotation=45)\n",
    "plt.title('Average Discount(%) by Each Brand')"
   ]
  },
  {
   "cell_type": "markdown",
   "id": "48472c28-42af-43c9-9a78-f31c12827dd6",
   "metadata": {},
   "source": [
    "# From this we can conclude that gigabyte is giving the highest discount, where as apple is giving least discount"
   ]
  },
  {
   "cell_type": "code",
   "execution_count": 27,
   "id": "cb361bf4-8f67-4a34-8245-dfaaa4c8cc43",
   "metadata": {},
   "outputs": [
    {
     "data": {
      "text/html": [
       "<div>\n",
       "<style scoped>\n",
       "    .dataframe tbody tr th:only-of-type {\n",
       "        vertical-align: middle;\n",
       "    }\n",
       "\n",
       "    .dataframe tbody tr th {\n",
       "        vertical-align: top;\n",
       "    }\n",
       "\n",
       "    .dataframe thead th {\n",
       "        text-align: right;\n",
       "    }\n",
       "</style>\n",
       "<table border=\"1\" class=\"dataframe\">\n",
       "  <thead>\n",
       "    <tr style=\"text-align: right;\">\n",
       "      <th></th>\n",
       "      <th>Product Name</th>\n",
       "      <th>ProductID</th>\n",
       "      <th>Actual price</th>\n",
       "      <th>Discount price</th>\n",
       "      <th>Stars</th>\n",
       "      <th>Rating</th>\n",
       "      <th>Reviews</th>\n",
       "      <th>Description</th>\n",
       "      <th>Link</th>\n",
       "      <th>Brand_Name</th>\n",
       "      <th>Discount_Percentage</th>\n",
       "    </tr>\n",
       "  </thead>\n",
       "  <tbody>\n",
       "    <tr>\n",
       "      <th>0</th>\n",
       "      <td>MSI Cyborg 15 Intel Core i5 12th Gen 12450H - ...</td>\n",
       "      <td>COMGZW35W3DSJADN</td>\n",
       "      <td>89990.0</td>\n",
       "      <td>54990</td>\n",
       "      <td>3.9</td>\n",
       "      <td>7 Ratings</td>\n",
       "      <td>1 Reviews</td>\n",
       "      <td>Intel Core i5 Processor (12th Gen)16 GB DDR5 R...</td>\n",
       "      <td>https://www.flipkart.com/msi-cyborg-15-intel-c...</td>\n",
       "      <td>MSI</td>\n",
       "      <td>38.89321</td>\n",
       "    </tr>\n",
       "    <tr>\n",
       "      <th>2</th>\n",
       "      <td>DELL Inspiron 3520 Intel Core i3 12th Gen 1215...</td>\n",
       "      <td>COMGJ75HJGFDJ6JN</td>\n",
       "      <td>49240.0</td>\n",
       "      <td>35660</td>\n",
       "      <td>4.2</td>\n",
       "      <td>1,805 Ratings</td>\n",
       "      <td>143 Reviews</td>\n",
       "      <td>Intel Core i3 Processor (12th Gen)8 GB DDR4 RA...</td>\n",
       "      <td>https://www.flipkart.com/dell-inspiron-3520-in...</td>\n",
       "      <td>DELL</td>\n",
       "      <td>27.579204</td>\n",
       "    </tr>\n",
       "  </tbody>\n",
       "</table>\n",
       "</div>"
      ],
      "text/plain": [
       "                                        Product Name         ProductID  \\\n",
       "0  MSI Cyborg 15 Intel Core i5 12th Gen 12450H - ...  COMGZW35W3DSJADN   \n",
       "2  DELL Inspiron 3520 Intel Core i3 12th Gen 1215...  COMGJ75HJGFDJ6JN   \n",
       "\n",
       "   Actual price Discount price  Stars         Rating      Reviews  \\\n",
       "0       89990.0          54990    3.9      7 Ratings    1 Reviews   \n",
       "2       49240.0          35660    4.2  1,805 Ratings  143 Reviews   \n",
       "\n",
       "                                         Description  \\\n",
       "0  Intel Core i5 Processor (12th Gen)16 GB DDR5 R...   \n",
       "2  Intel Core i3 Processor (12th Gen)8 GB DDR4 RA...   \n",
       "\n",
       "                                                Link Brand_Name  \\\n",
       "0  https://www.flipkart.com/msi-cyborg-15-intel-c...        MSI   \n",
       "2  https://www.flipkart.com/dell-inspiron-3520-in...       DELL   \n",
       "\n",
       "  Discount_Percentage  \n",
       "0            38.89321  \n",
       "2           27.579204  "
      ]
     },
     "execution_count": 27,
     "metadata": {},
     "output_type": "execute_result"
    }
   ],
   "source": [
    "df.head(2)"
   ]
  },
  {
   "cell_type": "markdown",
   "id": "06a4b0b7-e45a-47e9-995f-f5a0d97d7ca2",
   "metadata": {},
   "source": [
    "# Avg rating(star) by brand"
   ]
  },
  {
   "cell_type": "code",
   "execution_count": 29,
   "id": "6d970c1a-772a-4720-b6a3-464876ac1335",
   "metadata": {},
   "outputs": [],
   "source": [
    "avg_rating_by_brand=df.groupby('Brand_Name')['Stars'].mean().sort_values(ascending=False).reset_index()"
   ]
  },
  {
   "cell_type": "code",
   "execution_count": 30,
   "id": "ae4c754a-98cf-40a9-a04b-b7b711e44c4e",
   "metadata": {},
   "outputs": [
    {
     "data": {
      "text/plain": [
       "Text(0.5, 1.0, 'Average Rating by Brand')"
      ]
     },
     "execution_count": 30,
     "metadata": {},
     "output_type": "execute_result"
    },
    {
     "data": {
      "image/png": "[encoded data removed]",
      "text/plain": [
       "<Figure size 1200x600 with 1 Axes>"
      ]
     },
     "metadata": {},
     "output_type": "display_data"
    }
   ],
   "source": [
    "plt.figure(figsize=(12,6))\n",
    "sns.barplot(data=avg_rating_by_brand,x='Brand_Name',y='Stars')\n",
    "plt.xticks(rotation=45)\n",
    "plt.title('Average Rating by Brand')"
   ]
  },
  {
   "cell_type": "markdown",
   "id": "82657cef-9173-425d-af93-55a2ce75b10e",
   "metadata": {},
   "source": [
    "# From this chart we can conclude that thompson is the best rated laptop followed by apple whereas Ultimus is the least rated laptop on the flipkart"
   ]
  },
  {
   "cell_type": "code",
   "execution_count": 31,
   "id": "3ff96e4a-f2a2-472a-8f90-27756af52472",
   "metadata": {},
   "outputs": [
    {
     "data": {
      "text/html": [
       "<div>\n",
       "<style scoped>\n",
       "    .dataframe tbody tr th:only-of-type {\n",
       "        vertical-align: middle;\n",
       "    }\n",
       "\n",
       "    .dataframe tbody tr th {\n",
       "        vertical-align: top;\n",
       "    }\n",
       "\n",
       "    .dataframe thead th {\n",
       "        text-align: right;\n",
       "    }\n",
       "</style>\n",
       "<table border=\"1\" class=\"dataframe\">\n",
       "  <thead>\n",
       "    <tr style=\"text-align: right;\">\n",
       "      <th></th>\n",
       "      <th>Product Name</th>\n",
       "      <th>ProductID</th>\n",
       "      <th>Actual price</th>\n",
       "      <th>Discount price</th>\n",
       "      <th>Stars</th>\n",
       "      <th>Rating</th>\n",
       "      <th>Reviews</th>\n",
       "      <th>Description</th>\n",
       "      <th>Link</th>\n",
       "      <th>Brand_Name</th>\n",
       "      <th>Discount_Percentage</th>\n",
       "    </tr>\n",
       "  </thead>\n",
       "  <tbody>\n",
       "    <tr>\n",
       "      <th>690</th>\n",
       "      <td>HP Intel Core i3 12th Gen 1215U - (16 GB/512 G...</td>\n",
       "      <td>COMGQY48KGHRAF3B</td>\n",
       "      <td>52721.0</td>\n",
       "      <td>42990</td>\n",
       "      <td>4.2</td>\n",
       "      <td>5,540 Ratings</td>\n",
       "      <td>485 Reviews</td>\n",
       "      <td>Intel Core i3 Processor (12th Gen)16 GB DDR4 R...</td>\n",
       "      <td>https://www.flipkart.com/hp-intel-core-i3-12th...</td>\n",
       "      <td>HP</td>\n",
       "      <td>18.457541</td>\n",
       "    </tr>\n",
       "  </tbody>\n",
       "</table>\n",
       "</div>"
      ],
      "text/plain": [
       "                                          Product Name         ProductID  \\\n",
       "690  HP Intel Core i3 12th Gen 1215U - (16 GB/512 G...  COMGQY48KGHRAF3B   \n",
       "\n",
       "     Actual price Discount price  Stars         Rating      Reviews  \\\n",
       "690       52721.0          42990    4.2  5,540 Ratings  485 Reviews   \n",
       "\n",
       "                                           Description  \\\n",
       "690  Intel Core i3 Processor (12th Gen)16 GB DDR4 R...   \n",
       "\n",
       "                                                  Link Brand_Name  \\\n",
       "690  https://www.flipkart.com/hp-intel-core-i3-12th...         HP   \n",
       "\n",
       "    Discount_Percentage  \n",
       "690           18.457541  "
      ]
     },
     "execution_count": 31,
     "metadata": {},
     "output_type": "execute_result"
    }
   ],
   "source": [
    "df.sample()"
   ]
  },
  {
   "cell_type": "markdown",
   "id": "77da61e3-45da-4332-85c6-93df640a4c5c",
   "metadata": {},
   "source": [
    "# Avg reviews for each brand "
   ]
  },
  {
   "cell_type": "code",
   "execution_count": 32,
   "id": "b699a11e-de60-4e51-8a9b-cca19de27767",
   "metadata": {},
   "outputs": [],
   "source": [
    "df['Reviews']=df['Reviews'].str.replace('Reviews','')"
   ]
  },
  {
   "cell_type": "code",
   "execution_count": 33,
   "id": "4d2ebe59-80d6-4d20-bd2a-964a2b5b23a2",
   "metadata": {},
   "outputs": [],
   "source": [
    "df['Reviews']=df['Reviews'].str.replace(',','')"
   ]
  },
  {
   "cell_type": "code",
   "execution_count": 34,
   "id": "504bc562-0f0a-43f4-a1ea-f2d482469150",
   "metadata": {},
   "outputs": [
    {
     "name": "stdout",
     "output_type": "stream",
     "text": [
      "<class 'pandas.core.frame.DataFrame'>\n",
      "Index: 808 entries, 0 to 959\n",
      "Data columns (total 11 columns):\n",
      " #   Column               Non-Null Count  Dtype  \n",
      "---  ------               --------------  -----  \n",
      " 0   Product Name         808 non-null    object \n",
      " 1   ProductID            808 non-null    object \n",
      " 2   Actual price         808 non-null    float64\n",
      " 3   Discount price       808 non-null    object \n",
      " 4   Stars                808 non-null    float64\n",
      " 5   Rating               808 non-null    object \n",
      " 6   Reviews              808 non-null    object \n",
      " 7   Description          808 non-null    object \n",
      " 8   Link                 808 non-null    object \n",
      " 9   Brand_Name           808 non-null    object \n",
      " 10  Discount_Percentage  808 non-null    object \n",
      "dtypes: float64(2), object(9)\n",
      "memory usage: 75.8+ KB\n"
     ]
    }
   ],
   "source": [
    "df.info()"
   ]
  },
  {
   "cell_type": "code",
   "execution_count": 35,
   "id": "1b810640-d148-4d6d-810b-fd09bf03d85b",
   "metadata": {},
   "outputs": [],
   "source": [
    "df['Reviews']=df['Reviews'].astype(int)"
   ]
  },
  {
   "cell_type": "code",
   "execution_count": 38,
   "id": "43a2c5ea-e6c6-4f15-b5ce-abc6855b7a79",
   "metadata": {},
   "outputs": [],
   "source": [
    "avg_review_by_brand=df.groupby('Brand_Name')['Reviews'].mean().sort_values(ascending=False).reset_index()"
   ]
  },
  {
   "cell_type": "code",
   "execution_count": 39,
   "id": "3ae4abde-c3bd-46ab-b881-0646262d7e79",
   "metadata": {},
   "outputs": [
    {
     "data": {
      "text/plain": [
       "Text(0.5, 1.0, 'Average reviews by brands')"
      ]
     },
     "execution_count": 39,
     "metadata": {},
     "output_type": "execute_result"
    },
    {
     "data": {
      "image/png": "[encoded data removed]",
      "text/plain": [
       "<Figure size 1200x600 with 1 Axes>"
      ]
     },
     "metadata": {},
     "output_type": "display_data"
    }
   ],
   "source": [
    "plt.figure(figsize=(12,6))\n",
    "sns.barplot(data=avg_review_by_brand,x='Brand_Name',y='Reviews')\n",
    "plt.xticks(rotation=45)\n",
    "plt.title('Average reviews by brands')"
   ]
  },
  {
   "cell_type": "markdown",
   "id": "6248da9c-caa6-4f73-9ea1-810f5af2d092",
   "metadata": {},
   "source": [
    "# From this barplot we can conclude that realme and primebook is the most reviewed laptop on flipkart whereas Thomson is the least reviewed laptop"
   ]
  },
  {
   "cell_type": "code",
   "execution_count": 40,
   "id": "4dbfe3d9-d267-4fdc-94c6-d6d24cebeeb0",
   "metadata": {},
   "outputs": [
    {
     "data": {
      "text/html": [
       "<div>\n",
       "<style scoped>\n",
       "    .dataframe tbody tr th:only-of-type {\n",
       "        vertical-align: middle;\n",
       "    }\n",
       "\n",
       "    .dataframe tbody tr th {\n",
       "        vertical-align: top;\n",
       "    }\n",
       "\n",
       "    .dataframe thead th {\n",
       "        text-align: right;\n",
       "    }\n",
       "</style>\n",
       "<table border=\"1\" class=\"dataframe\">\n",
       "  <thead>\n",
       "    <tr style=\"text-align: right;\">\n",
       "      <th></th>\n",
       "      <th>Product Name</th>\n",
       "      <th>ProductID</th>\n",
       "      <th>Actual price</th>\n",
       "      <th>Discount price</th>\n",
       "      <th>Stars</th>\n",
       "      <th>Rating</th>\n",
       "      <th>Reviews</th>\n",
       "      <th>Description</th>\n",
       "      <th>Link</th>\n",
       "      <th>Brand_Name</th>\n",
       "      <th>Discount_Percentage</th>\n",
       "    </tr>\n",
       "  </thead>\n",
       "  <tbody>\n",
       "    <tr>\n",
       "      <th>0</th>\n",
       "      <td>MSI Cyborg 15 Intel Core i5 12th Gen 12450H - ...</td>\n",
       "      <td>COMGZW35W3DSJADN</td>\n",
       "      <td>89990.0</td>\n",
       "      <td>54990</td>\n",
       "      <td>3.9</td>\n",
       "      <td>7 Ratings</td>\n",
       "      <td>1</td>\n",
       "      <td>Intel Core i5 Processor (12th Gen)16 GB DDR5 R...</td>\n",
       "      <td>https://www.flipkart.com/msi-cyborg-15-intel-c...</td>\n",
       "      <td>MSI</td>\n",
       "      <td>38.89321</td>\n",
       "    </tr>\n",
       "    <tr>\n",
       "      <th>2</th>\n",
       "      <td>DELL Inspiron 3520 Intel Core i3 12th Gen 1215...</td>\n",
       "      <td>COMGJ75HJGFDJ6JN</td>\n",
       "      <td>49240.0</td>\n",
       "      <td>35660</td>\n",
       "      <td>4.2</td>\n",
       "      <td>1,805 Ratings</td>\n",
       "      <td>143</td>\n",
       "      <td>Intel Core i3 Processor (12th Gen)8 GB DDR4 RA...</td>\n",
       "      <td>https://www.flipkart.com/dell-inspiron-3520-in...</td>\n",
       "      <td>DELL</td>\n",
       "      <td>27.579204</td>\n",
       "    </tr>\n",
       "    <tr>\n",
       "      <th>3</th>\n",
       "      <td>Acer One (2024) Intel Core i3 11th Gen 1115G4 ...</td>\n",
       "      <td>COMGPF5CQ7VDWDT4</td>\n",
       "      <td>43999.0</td>\n",
       "      <td>26990</td>\n",
       "      <td>4.2</td>\n",
       "      <td>6,977 Ratings</td>\n",
       "      <td>596</td>\n",
       "      <td>Intel Core i3 Processor (11th Gen)8 GB DDR4 RA...</td>\n",
       "      <td>https://www.flipkart.com/acer-one-2024-intel-c...</td>\n",
       "      <td>Acer</td>\n",
       "      <td>38.657697</td>\n",
       "    </tr>\n",
       "    <tr>\n",
       "      <th>4</th>\n",
       "      <td>Lenovo V15 AMD Ryzen 3 Quad Core 7320U - (8 GB...</td>\n",
       "      <td>COMGPYKZAWY8UX6C</td>\n",
       "      <td>59400.0</td>\n",
       "      <td>27989</td>\n",
       "      <td>4.2</td>\n",
       "      <td>1,263 Ratings</td>\n",
       "      <td>113</td>\n",
       "      <td>AMD Ryzen 3 Quad Core Processor8 GB LPDDR5 RAM...</td>\n",
       "      <td>https://www.flipkart.com/lenovo-v15-amd-ryzen-...</td>\n",
       "      <td>Lenovo</td>\n",
       "      <td>52.880471</td>\n",
       "    </tr>\n",
       "    <tr>\n",
       "      <th>5</th>\n",
       "      <td>Lenovo AMD Ryzen 3 Quad Core 7330U - (8 GB/512...</td>\n",
       "      <td>COMGYG23H3CRABUT</td>\n",
       "      <td>63900.0</td>\n",
       "      <td>32990</td>\n",
       "      <td>5.0</td>\n",
       "      <td>7 Ratings</td>\n",
       "      <td>0</td>\n",
       "      <td>AMD Ryzen 3 Quad Core Processor8 GB DDR4 RAMWi...</td>\n",
       "      <td>https://www.flipkart.com/lenovo-amd-ryzen-3-qu...</td>\n",
       "      <td>Lenovo</td>\n",
       "      <td>48.372457</td>\n",
       "    </tr>\n",
       "  </tbody>\n",
       "</table>\n",
       "</div>"
      ],
      "text/plain": [
       "                                        Product Name         ProductID  \\\n",
       "0  MSI Cyborg 15 Intel Core i5 12th Gen 12450H - ...  COMGZW35W3DSJADN   \n",
       "2  DELL Inspiron 3520 Intel Core i3 12th Gen 1215...  COMGJ75HJGFDJ6JN   \n",
       "3  Acer One (2024) Intel Core i3 11th Gen 1115G4 ...  COMGPF5CQ7VDWDT4   \n",
       "4  Lenovo V15 AMD Ryzen 3 Quad Core 7320U - (8 GB...  COMGPYKZAWY8UX6C   \n",
       "5  Lenovo AMD Ryzen 3 Quad Core 7330U - (8 GB/512...  COMGYG23H3CRABUT   \n",
       "\n",
       "   Actual price Discount price  Stars         Rating  Reviews  \\\n",
       "0       89990.0          54990    3.9      7 Ratings        1   \n",
       "2       49240.0          35660    4.2  1,805 Ratings      143   \n",
       "3       43999.0          26990    4.2  6,977 Ratings      596   \n",
       "4       59400.0          27989    4.2  1,263 Ratings      113   \n",
       "5       63900.0          32990    5.0      7 Ratings        0   \n",
       "\n",
       "                                         Description  \\\n",
       "0  Intel Core i5 Processor (12th Gen)16 GB DDR5 R...   \n",
       "2  Intel Core i3 Processor (12th Gen)8 GB DDR4 RA...   \n",
       "3  Intel Core i3 Processor (11th Gen)8 GB DDR4 RA...   \n",
       "4  AMD Ryzen 3 Quad Core Processor8 GB LPDDR5 RAM...   \n",
       "5  AMD Ryzen 3 Quad Core Processor8 GB DDR4 RAMWi...   \n",
       "\n",
       "                                                Link Brand_Name  \\\n",
       "0  https://www.flipkart.com/msi-cyborg-15-intel-c...        MSI   \n",
       "2  https://www.flipkart.com/dell-inspiron-3520-in...       DELL   \n",
       "3  https://www.flipkart.com/acer-one-2024-intel-c...       Acer   \n",
       "4  https://www.flipkart.com/lenovo-v15-amd-ryzen-...     Lenovo   \n",
       "5  https://www.flipkart.com/lenovo-amd-ryzen-3-qu...     Lenovo   \n",
       "\n",
       "  Discount_Percentage  \n",
       "0            38.89321  \n",
       "2           27.579204  \n",
       "3           38.657697  \n",
       "4           52.880471  \n",
       "5           48.372457  "
      ]
     },
     "execution_count": 40,
     "metadata": {},
     "output_type": "execute_result"
    }
   ],
   "source": [
    "df.head()"
   ]
  },
  {
   "cell_type": "code",
   "execution_count": 41,
   "id": "53c66860-f3a1-4443-839a-bf8c2026ffcb",
   "metadata": {},
   "outputs": [
    {
     "data": {
      "text/plain": [
       "Actual price\n",
       "89990.0     41\n",
       "69990.0     38\n",
       "39990.0     36\n",
       "55090.0     35\n",
       "51266.0     35\n",
       "            ..\n",
       "46601.0      1\n",
       "171999.0     1\n",
       "27990.0      1\n",
       "103790.0     1\n",
       "49999.0      1\n",
       "Name: count, Length: 367, dtype: int64"
      ]
     },
     "execution_count": 41,
     "metadata": {},
     "output_type": "execute_result"
    }
   ],
   "source": [
    "df['Actual price'].value_counts()"
   ]
  },
  {
   "cell_type": "code",
   "execution_count": 42,
   "id": "b979505f-901e-484b-b340-e5b362784d2c",
   "metadata": {},
   "outputs": [
    {
     "data": {
      "text/plain": [
       "Discount price\n",
       "54990    45\n",
       "36990    41\n",
       "51990    40\n",
       "42990    37\n",
       "35990    35\n",
       "         ..\n",
       "77890     1\n",
       "47999     1\n",
       "49490     1\n",
       "29490     1\n",
       "77500     1\n",
       "Name: count, Length: 262, dtype: int64"
      ]
     },
     "execution_count": 42,
     "metadata": {},
     "output_type": "execute_result"
    }
   ],
   "source": [
    "df['Discount price'].value_counts()"
   ]
  },
  {
   "cell_type": "code",
   "execution_count": 48,
   "id": "c65c014a-ca48-4953-9abe-bd149dae1d2a",
   "metadata": {},
   "outputs": [
    {
     "data": {
      "text/plain": [
       "Stars\n",
       "4.2    262\n",
       "4.3     83\n",
       "4.1     63\n",
       "3.9     61\n",
       "3.8     60\n",
       "5.0     55\n",
       "4.7     46\n",
       "4.4     42\n",
       "4.0     37\n",
       "4.5     23\n",
       "3.7     19\n",
       "4.6     19\n",
       "2.3      6\n",
       "4.8      6\n",
       "3.6      6\n",
       "3.4      4\n",
       "3.5      4\n",
       "3.2      2\n",
       "3.3      2\n",
       "2.8      2\n",
       "4.9      2\n",
       "3.0      2\n",
       "2.0      1\n",
       "3.1      1\n",
       "Name: count, dtype: int64"
      ]
     },
     "execution_count": 48,
     "metadata": {},
     "output_type": "execute_result"
    }
   ],
   "source": [
    "df['Stars'].value_counts()"
   ]
  },
  {
   "cell_type": "code",
   "execution_count": 45,
   "id": "cb5c0a9c-b536-43d7-a33e-64aaa69e29c8",
   "metadata": {},
   "outputs": [],
   "source": [
    "df['Actual price']=df['Actual price'].astype(float)"
   ]
  },
  {
   "cell_type": "code",
   "execution_count": 46,
   "id": "c5f7b511-18b6-41f8-ab5a-d30139bcb1a2",
   "metadata": {},
   "outputs": [],
   "source": [
    "df['Stars']=df['Stars'].astype(float)"
   ]
  },
  {
   "cell_type": "code",
   "execution_count": 47,
   "id": "fb8f042f-f9e8-4ae7-ab60-deeb5a0d71e1",
   "metadata": {},
   "outputs": [],
   "source": [
    "df['Discount price']=df['Discount price'].astype(float)"
   ]
  },
  {
   "cell_type": "code",
   "execution_count": 49,
   "id": "3562ffb2-7d91-4eb3-a4af-fd7be3694b9d",
   "metadata": {},
   "outputs": [
    {
     "name": "stdout",
     "output_type": "stream",
     "text": [
      "<class 'pandas.core.frame.DataFrame'>\n",
      "Index: 808 entries, 0 to 959\n",
      "Data columns (total 11 columns):\n",
      " #   Column               Non-Null Count  Dtype  \n",
      "---  ------               --------------  -----  \n",
      " 0   Product Name         808 non-null    object \n",
      " 1   ProductID            808 non-null    object \n",
      " 2   Actual price         808 non-null    float64\n",
      " 3   Discount price       808 non-null    float64\n",
      " 4   Stars                808 non-null    float64\n",
      " 5   Rating               808 non-null    object \n",
      " 6   Reviews              808 non-null    int32  \n",
      " 7   Description          808 non-null    object \n",
      " 8   Link                 808 non-null    object \n",
      " 9   Brand_Name           808 non-null    object \n",
      " 10  Discount_Percentage  808 non-null    object \n",
      "dtypes: float64(3), int32(1), object(7)\n",
      "memory usage: 72.6+ KB\n"
     ]
    }
   ],
   "source": [
    "df.info()"
   ]
  },
  {
   "cell_type": "markdown",
   "id": "a1625bf0-23ce-4e52-9858-70e4d2f020c9",
   "metadata": {},
   "source": [
    "# correlatioon matrix between actual price, discount price and stars"
   ]
  },
  {
   "cell_type": "code",
   "execution_count": 52,
   "id": "4f70541a-1fe3-41e4-b45f-2040ffcf5cbc",
   "metadata": {},
   "outputs": [],
   "source": [
    "correlation_matrix=df[['Actual price', 'Discount price','Stars']].corr()"
   ]
  },
  {
   "cell_type": "code",
   "execution_count": 56,
   "id": "444309ed-7a79-4a4e-8783-a0460d0b3d8e",
   "metadata": {},
   "outputs": [
    {
     "data": {
      "image/png": "[encoded data removed]",
      "text/plain": [
       "<Figure size 800x600 with 2 Axes>"
      ]
     },
     "metadata": {},
     "output_type": "display_data"
    }
   ],
   "source": [
    "plt.figure(figsize=(8,6))\n",
    "sns.heatmap(data=correlation_matrix,annot=True,cmap='coolwarm',fmt='.2f')\n",
    "plt.title('Correlation Matrix')\n",
    "plt.show()"
   ]
  },
  {
   "cell_type": "markdown",
   "id": "5e92f647-fa64-479b-81b1-2d0970ae0f8f",
   "metadata": {},
   "source": [
    "# this shows that actual price is affecting discount price highly that is if actual price is changing the discount price is also changing that ways and stars is not affecting the discount price or actual price much "
   ]
  },
  {
   "cell_type": "code",
   "execution_count": 60,
   "id": "6877429b-3be5-46bb-a79a-161f9fd591ef",
   "metadata": {},
   "outputs": [
    {
     "data": {
      "text/html": [
       "<div>\n",
       "<style scoped>\n",
       "    .dataframe tbody tr th:only-of-type {\n",
       "        vertical-align: middle;\n",
       "    }\n",
       "\n",
       "    .dataframe tbody tr th {\n",
       "        vertical-align: top;\n",
       "    }\n",
       "\n",
       "    .dataframe thead th {\n",
       "        text-align: right;\n",
       "    }\n",
       "</style>\n",
       "<table border=\"1\" class=\"dataframe\">\n",
       "  <thead>\n",
       "    <tr style=\"text-align: right;\">\n",
       "      <th></th>\n",
       "      <th>Product Name</th>\n",
       "      <th>ProductID</th>\n",
       "      <th>Actual price</th>\n",
       "      <th>Discount price</th>\n",
       "      <th>Stars</th>\n",
       "      <th>Rating</th>\n",
       "      <th>Reviews</th>\n",
       "      <th>Description</th>\n",
       "      <th>Link</th>\n",
       "      <th>Brand_Name</th>\n",
       "      <th>Discount_Percentage</th>\n",
       "    </tr>\n",
       "  </thead>\n",
       "  <tbody>\n",
       "    <tr>\n",
       "      <th>0</th>\n",
       "      <td>MSI Cyborg 15 Intel Core i5 12th Gen 12450H - ...</td>\n",
       "      <td>COMGZW35W3DSJADN</td>\n",
       "      <td>89990.0</td>\n",
       "      <td>54990.0</td>\n",
       "      <td>3.9</td>\n",
       "      <td>7 Ratings</td>\n",
       "      <td>1</td>\n",
       "      <td>Intel Core i5 Processor (12th Gen)16 GB DDR5 R...</td>\n",
       "      <td>https://www.flipkart.com/msi-cyborg-15-intel-c...</td>\n",
       "      <td>MSI</td>\n",
       "      <td>38.89321</td>\n",
       "    </tr>\n",
       "    <tr>\n",
       "      <th>2</th>\n",
       "      <td>DELL Inspiron 3520 Intel Core i3 12th Gen 1215...</td>\n",
       "      <td>COMGJ75HJGFDJ6JN</td>\n",
       "      <td>49240.0</td>\n",
       "      <td>35660.0</td>\n",
       "      <td>4.2</td>\n",
       "      <td>1,805 Ratings</td>\n",
       "      <td>143</td>\n",
       "      <td>Intel Core i3 Processor (12th Gen)8 GB DDR4 RA...</td>\n",
       "      <td>https://www.flipkart.com/dell-inspiron-3520-in...</td>\n",
       "      <td>DELL</td>\n",
       "      <td>27.579204</td>\n",
       "    </tr>\n",
       "    <tr>\n",
       "      <th>3</th>\n",
       "      <td>Acer One (2024) Intel Core i3 11th Gen 1115G4 ...</td>\n",
       "      <td>COMGPF5CQ7VDWDT4</td>\n",
       "      <td>43999.0</td>\n",
       "      <td>26990.0</td>\n",
       "      <td>4.2</td>\n",
       "      <td>6,977 Ratings</td>\n",
       "      <td>596</td>\n",
       "      <td>Intel Core i3 Processor (11th Gen)8 GB DDR4 RA...</td>\n",
       "      <td>https://www.flipkart.com/acer-one-2024-intel-c...</td>\n",
       "      <td>Acer</td>\n",
       "      <td>38.657697</td>\n",
       "    </tr>\n",
       "    <tr>\n",
       "      <th>4</th>\n",
       "      <td>Lenovo V15 AMD Ryzen 3 Quad Core 7320U - (8 GB...</td>\n",
       "      <td>COMGPYKZAWY8UX6C</td>\n",
       "      <td>59400.0</td>\n",
       "      <td>27989.0</td>\n",
       "      <td>4.2</td>\n",
       "      <td>1,263 Ratings</td>\n",
       "      <td>113</td>\n",
       "      <td>AMD Ryzen 3 Quad Core Processor8 GB LPDDR5 RAM...</td>\n",
       "      <td>https://www.flipkart.com/lenovo-v15-amd-ryzen-...</td>\n",
       "      <td>Lenovo</td>\n",
       "      <td>52.880471</td>\n",
       "    </tr>\n",
       "  </tbody>\n",
       "</table>\n",
       "</div>"
      ],
      "text/plain": [
       "                                        Product Name         ProductID  \\\n",
       "0  MSI Cyborg 15 Intel Core i5 12th Gen 12450H - ...  COMGZW35W3DSJADN   \n",
       "2  DELL Inspiron 3520 Intel Core i3 12th Gen 1215...  COMGJ75HJGFDJ6JN   \n",
       "3  Acer One (2024) Intel Core i3 11th Gen 1115G4 ...  COMGPF5CQ7VDWDT4   \n",
       "4  Lenovo V15 AMD Ryzen 3 Quad Core 7320U - (8 GB...  COMGPYKZAWY8UX6C   \n",
       "\n",
       "   Actual price  Discount price  Stars         Rating  Reviews  \\\n",
       "0       89990.0         54990.0    3.9      7 Ratings        1   \n",
       "2       49240.0         35660.0    4.2  1,805 Ratings      143   \n",
       "3       43999.0         26990.0    4.2  6,977 Ratings      596   \n",
       "4       59400.0         27989.0    4.2  1,263 Ratings      113   \n",
       "\n",
       "                                         Description  \\\n",
       "0  Intel Core i5 Processor (12th Gen)16 GB DDR5 R...   \n",
       "2  Intel Core i3 Processor (12th Gen)8 GB DDR4 RA...   \n",
       "3  Intel Core i3 Processor (11th Gen)8 GB DDR4 RA...   \n",
       "4  AMD Ryzen 3 Quad Core Processor8 GB LPDDR5 RAM...   \n",
       "\n",
       "                                                Link Brand_Name  \\\n",
       "0  https://www.flipkart.com/msi-cyborg-15-intel-c...        MSI   \n",
       "2  https://www.flipkart.com/dell-inspiron-3520-in...       DELL   \n",
       "3  https://www.flipkart.com/acer-one-2024-intel-c...       Acer   \n",
       "4  https://www.flipkart.com/lenovo-v15-amd-ryzen-...     Lenovo   \n",
       "\n",
       "  Discount_Percentage  \n",
       "0            38.89321  \n",
       "2           27.579204  \n",
       "3           38.657697  \n",
       "4           52.880471  "
      ]
     },
     "execution_count": 60,
     "metadata": {},
     "output_type": "execute_result"
    }
   ],
   "source": [
    "df.head(4)"
   ]
  },
  {
   "cell_type": "markdown",
   "id": "d9a7d92a-5ac6-4f57-9a1f-abb8cd97d670",
   "metadata": {},
   "source": [
    "# Actual prices by processor types"
   ]
  },
  {
   "cell_type": "code",
   "execution_count": 71,
   "id": "b3f276ab-517b-4e6c-83b6-c16f0f04e0c4",
   "metadata": {},
   "outputs": [],
   "source": [
    "# extracting processor from product name\n",
    "df['Processor']=df['Product Name'].str.extract(r'(Intel Core i[3579]|AMD Ryzen [3579])')"
   ]
  },
  {
   "cell_type": "code",
   "execution_count": 74,
   "id": "9067cac3-6fcb-4f7c-a06a-e0994dc5416a",
   "metadata": {},
   "outputs": [
    {
     "data": {
      "text/html": [
       "<div>\n",
       "<style scoped>\n",
       "    .dataframe tbody tr th:only-of-type {\n",
       "        vertical-align: middle;\n",
       "    }\n",
       "\n",
       "    .dataframe tbody tr th {\n",
       "        vertical-align: top;\n",
       "    }\n",
       "\n",
       "    .dataframe thead th {\n",
       "        text-align: right;\n",
       "    }\n",
       "</style>\n",
       "<table border=\"1\" class=\"dataframe\">\n",
       "  <thead>\n",
       "    <tr style=\"text-align: right;\">\n",
       "      <th></th>\n",
       "      <th>Product Name</th>\n",
       "      <th>ProductID</th>\n",
       "      <th>Actual price</th>\n",
       "      <th>Discount price</th>\n",
       "      <th>Stars</th>\n",
       "      <th>Rating</th>\n",
       "      <th>Reviews</th>\n",
       "      <th>Description</th>\n",
       "      <th>Link</th>\n",
       "      <th>Brand_Name</th>\n",
       "      <th>Discount_Percentage</th>\n",
       "      <th>Processor</th>\n",
       "    </tr>\n",
       "  </thead>\n",
       "  <tbody>\n",
       "    <tr>\n",
       "      <th>259</th>\n",
       "      <td>Infinix X3 Slim Intel Intel Core i3 12th Gen 1...</td>\n",
       "      <td>COMGRSWXHJQWMUHG</td>\n",
       "      <td>54990.0</td>\n",
       "      <td>29990.0</td>\n",
       "      <td>4.1</td>\n",
       "      <td>1,392 Ratings</td>\n",
       "      <td>190</td>\n",
       "      <td>Intel Core i3 Processor (12th Gen)8 GB LPDDR4X...</td>\n",
       "      <td>https://www.flipkart.com/infinix-x3-slim-intel...</td>\n",
       "      <td>Infinix</td>\n",
       "      <td>45.462811</td>\n",
       "      <td>Intel Core i3</td>\n",
       "    </tr>\n",
       "  </tbody>\n",
       "</table>\n",
       "</div>"
      ],
      "text/plain": [
       "                                          Product Name         ProductID  \\\n",
       "259  Infinix X3 Slim Intel Intel Core i3 12th Gen 1...  COMGRSWXHJQWMUHG   \n",
       "\n",
       "     Actual price  Discount price  Stars         Rating  Reviews  \\\n",
       "259       54990.0         29990.0    4.1  1,392 Ratings      190   \n",
       "\n",
       "                                           Description  \\\n",
       "259  Intel Core i3 Processor (12th Gen)8 GB LPDDR4X...   \n",
       "\n",
       "                                                  Link Brand_Name  \\\n",
       "259  https://www.flipkart.com/infinix-x3-slim-intel...    Infinix   \n",
       "\n",
       "    Discount_Percentage      Processor  \n",
       "259           45.462811  Intel Core i3  "
      ]
     },
     "execution_count": 74,
     "metadata": {},
     "output_type": "execute_result"
    }
   ],
   "source": [
    "df.sample()"
   ]
  },
  {
   "cell_type": "code",
   "execution_count": 81,
   "id": "65335622-aed2-4253-9bf8-2fa8badbd013",
   "metadata": {},
   "outputs": [],
   "source": [
    "pice_vs_processor=df.groupby('Processor')['Actual price'].mean().sort_values(ascending=False).reset_index()"
   ]
  },
  {
   "cell_type": "code",
   "execution_count": 82,
   "id": "6ec113ac-6ea5-4ca8-8e38-c0a3fa3d7f37",
   "metadata": {},
   "outputs": [
    {
     "data": {
      "text/html": [
       "<div>\n",
       "<style scoped>\n",
       "    .dataframe tbody tr th:only-of-type {\n",
       "        vertical-align: middle;\n",
       "    }\n",
       "\n",
       "    .dataframe tbody tr th {\n",
       "        vertical-align: top;\n",
       "    }\n",
       "\n",
       "    .dataframe thead th {\n",
       "        text-align: right;\n",
       "    }\n",
       "</style>\n",
       "<table border=\"1\" class=\"dataframe\">\n",
       "  <thead>\n",
       "    <tr style=\"text-align: right;\">\n",
       "      <th></th>\n",
       "      <th>Processor</th>\n",
       "      <th>Actual price</th>\n",
       "    </tr>\n",
       "  </thead>\n",
       "  <tbody>\n",
       "    <tr>\n",
       "      <th>0</th>\n",
       "      <td>Intel Core i9</td>\n",
       "      <td>223742.250000</td>\n",
       "    </tr>\n",
       "    <tr>\n",
       "      <th>1</th>\n",
       "      <td>AMD Ryzen 9</td>\n",
       "      <td>190925.000000</td>\n",
       "    </tr>\n",
       "    <tr>\n",
       "      <th>2</th>\n",
       "      <td>Intel Core i7</td>\n",
       "      <td>98948.842697</td>\n",
       "    </tr>\n",
       "    <tr>\n",
       "      <th>3</th>\n",
       "      <td>AMD Ryzen 7</td>\n",
       "      <td>95866.840000</td>\n",
       "    </tr>\n",
       "    <tr>\n",
       "      <th>4</th>\n",
       "      <td>Intel Core i5</td>\n",
       "      <td>78877.290984</td>\n",
       "    </tr>\n",
       "    <tr>\n",
       "      <th>5</th>\n",
       "      <td>AMD Ryzen 5</td>\n",
       "      <td>68541.698113</td>\n",
       "    </tr>\n",
       "    <tr>\n",
       "      <th>6</th>\n",
       "      <td>Intel Core i3</td>\n",
       "      <td>49951.699115</td>\n",
       "    </tr>\n",
       "    <tr>\n",
       "      <th>7</th>\n",
       "      <td>AMD Ryzen 3</td>\n",
       "      <td>49448.129032</td>\n",
       "    </tr>\n",
       "  </tbody>\n",
       "</table>\n",
       "</div>"
      ],
      "text/plain": [
       "       Processor   Actual price\n",
       "0  Intel Core i9  223742.250000\n",
       "1    AMD Ryzen 9  190925.000000\n",
       "2  Intel Core i7   98948.842697\n",
       "3    AMD Ryzen 7   95866.840000\n",
       "4  Intel Core i5   78877.290984\n",
       "5    AMD Ryzen 5   68541.698113\n",
       "6  Intel Core i3   49951.699115\n",
       "7    AMD Ryzen 3   49448.129032"
      ]
     },
     "execution_count": 82,
     "metadata": {},
     "output_type": "execute_result"
    }
   ],
   "source": [
    "pice_vs_processor"
   ]
  },
  {
   "cell_type": "code",
   "execution_count": 84,
   "id": "64c7bc2f-d975-4108-a1fe-b8efaf1b9260",
   "metadata": {},
   "outputs": [
    {
     "data": {
      "text/plain": [
       "<Axes: xlabel='Processor', ylabel='Actual price'>"
      ]
     },
     "execution_count": 84,
     "metadata": {},
     "output_type": "execute_result"
    },
    {
     "data": {
      "image/png": "[encoded data removed]",
      "text/plain": [
       "<Figure size 1200x600 with 1 Axes>"
      ]
     },
     "metadata": {},
     "output_type": "display_data"
    }
   ],
   "source": [
    "plt.figure(figsize=(12,6))\n",
    "sns.barplot(data=pice_vs_processor,x='Processor',y='Actual price')"
   ]
  },
  {
   "cell_type": "markdown",
   "id": "87f99d3a-d09b-4b42-be72-1027e65da722",
   "metadata": {},
   "source": [
    "# This shows that processor intel icore i9 has maximum price among the processors and AMD ryzen 3 has the least price"
   ]
  },
  {
   "cell_type": "code",
   "execution_count": null,
   "id": "e0189479-e20f-477d-8653-492b2f63c6ee",
   "metadata": {},
   "outputs": [],
   "source": []
  }
 ],
 "metadata": {
  "kernelspec": {
   "display_name": "Python 3 (ipykernel)",
   "language": "python",
   "name": "python3"
  },
  "language_info": {
   "codemirror_mode": {
    "name": "ipython",
    "version": 3
   },
   "file_extension": ".py",
   "mimetype": "text/x-python",
   "name": "python",
   "nbconvert_exporter": "python",
   "pygments_lexer": "ipython3",
   "version": "3.12.2"
  }
 },
 "nbformat": 4,
 "nbformat_minor": 5
}
